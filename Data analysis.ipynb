{
 "cells": [
  {
   "attachments": {},
   "cell_type": "markdown",
   "metadata": {},
   "source": [
    "# Identifying and Defining"
   ]
  },
  {
   "attachments": {},
   "cell_type": "markdown",
   "metadata": {},
   "source": [
    "### Choose your data scenario and define your purpose\n",
    "**Data:** I'm analysing the weather data of Australia in the span of 10 years (2007-2017)\\\n",
    "**Goal:** What are the weather patterns and how does it change over a long period of time\\\n",
    "**Source:** https://www.kaggle.com/datasets/arunavakrchakraborty/australia-weather-data/data\\\n",
    "**Access:** Data is publicly available\\\n",
    "**Access Method:** Accessible through .csv\n",
    "\n",
    "\n"
   ]
  },
  {
   "attachments": {},
   "cell_type": "markdown",
   "metadata": {},
   "source": [
    "# Functional Requirements"
   ]
  },
  {
   "attachments": {},
   "cell_type": "markdown",
   "metadata": {},
   "source": [
    "**Data Loading:** \\\n",
    "Description: The program will be able to load a .csv file.\\\n",
    "Input: A .csv file\\\n",
    "Output: A processed and loaded .csv file\\\n",
    "**Data Cleaning:** \\\n",
    "Description: The program cleans data by removing any unnecesssary information\\\n",
    "Input: A processed .csv file\\\n",
    "Output: Clean and usable pandas dataframe\\\n",
    "**Data Analysis:** \\\n",
    "Description: The system needs to identify the trend in data\\\n",
    "Input: A cleaned .csv file\\\n",
    "Output: Shows the trend in a piece of data using the most important information\\\n",
    "**Data Visualisation:** \\\n",
    "Description: The data will be visualised using a matplotlib chart\\\n",
    "Input: A .csv file that displays a trend\\\n",
    "Output: A matplotlib chart showing information\\\n",
    "**Data Reporting:** \\\n",
    "Description: The matplotlib chart will be stored as a png file with the given data\\\n",
    "Input: A matplotlib chart along with the information\\\n",
    "Output: A matplotlib chart stored as a png\n",
    "\n"
   ]
  },
  {
   "attachments": {},
   "cell_type": "markdown",
   "metadata": {},
   "source": [
    "# Use Cases"
   ]
  },
  {
   "attachments": {},
   "cell_type": "markdown",
   "metadata": {},
   "source": [
    "**Data Loading**\\\n",
    "Actor: User\\\n",
    "Goal: To load a dataset into the system.\\\n",
    "Preconditions: User has a dataset file ready.\\\n",
    "Main Flow:\n",
    "1. User places the dataset for reading into the correct folder.\n",
    "2. System validates the file format.\n",
    "3. System loads the dataset and displays the information in a dataframe.\\\n",
    "Postconditions: Data is loaded and ready for analysis\n",
    "\n",
    "**Data Cleaning**\\\n",
    "Actor: User\\\n",
    "Goal: To clean data and remove any errors.\\\n",
    "Preconditions: The data file has been loaded.\\\n",
    "Main Flow:\n",
    "1. User places the dataset for scanning errors.\n",
    "2. System removes any incorrect information.\n",
    "3. System loads the cleaned data in a dataframe for further analysis.\\\n",
    "Postconditions: Data is cleaned and can now be investigated\n",
    "\n",
    "    **Data Analysis**\\\n",
    "    Actor: User\\\n",
    "    Goal: To look for a trend in clean data.\\\n",
    "    Preconditions: The data file has been processed and cleaned.\\\n",
    "    Main Flow:\n",
    "    1. User places the dataset for identifying trends.\n",
    "    2. System removes any unnecessary information.\n",
    "    3. System loads the analysed data in a dataframe for visualisation.\\\n",
    "    Postconditions: The data trend has been found and is ready to be visualised\n",
    "\n",
    "    **Data Visualisation**\\\n",
    "    Actor: User\\\n",
    "    Goal: To visualise data using a matplotlib chart.\\\n",
    "    Preconditions: The data has an identified trend.\\\n",
    "    Main Flow:\n",
    "    1. User places the dataset for finding trends.\n",
    "    2. System removes any unnecessary information.\n",
    "    3. System displays a matplotlib chart with trends.\\\n",
    "    Postconditions: Data is visualised as a matplotlib chart and can be saved\n",
    "\n",
    "    **Data Reporting**\\\n",
    "    Actor: User\\\n",
    "    Goal: To save the matplotlib chart as a png.\\\n",
    "    Preconditions: A matplotlib chart is ready to be saved.\\\n",
    "    Main Flow:\n",
    "    1. User places the data to save as a png and .csv file.\n",
    "    2. System displays a matplotlib chart as a png.\n",
    "    3. System displays the information as a .csv file.\\\n",
    "    Postconditions: A .csv file and a png file displays the data. "
   ]
  },
  {
   "attachments": {},
   "cell_type": "markdown",
   "metadata": {},
   "source": [
    "# Non-Functional Requirements"
   ]
  },
  {
   "attachments": {},
   "cell_type": "markdown",
   "metadata": {},
   "source": [
    "**Usability**: The requirements from the user interface needs to make sure it is able to handle errors and stays consistent, as well as being overall simple to use. The readme should make a clear guide for how to manage the software using key aspects such as a title, description and ther following content.\n",
    "\n",
    "**Reliability**: The requirements of the system needs to make sure that data is free of errors and any incorrect information. When it does encounter an error, the user needs to be aware of the issue and it should be removed."
   ]
  },
  {
   "attachments": {},
   "cell_type": "markdown",
   "metadata": {},
   "source": [
    "# Research and Planning"
   ]
  },
  {
   "attachments": {},
   "cell_type": "markdown",
   "metadata": {},
   "source": [
    "**Purpose:** The purpose of this data is to investigate and analyse the weather patterns in Australia and how it changes over a couple of years. \n",
    "\n",
    "**Missing Data:** \n",
    "\n",
    "**Stakeholders:** \n",
    "\n",
    "**Use:**\n"
   ]
  }
 ],
 "metadata": {
  "language_info": {
   "name": "python"
  },
  "orig_nbformat": 4
 },
 "nbformat": 4,
 "nbformat_minor": 2
}
