{
 "cells": [
  {
   "attachments": {},
   "cell_type": "markdown",
   "metadata": {},
   "source": [
    "# Identifying and Defining"
   ]
  },
  {
   "attachments": {},
   "cell_type": "markdown",
   "metadata": {},
   "source": [
    "### Choose your data scenario and define your purpose\n",
    "**Data:** I'm analysing the weather data of Australia in the span of 10 years (2007-2017)\\\n",
    "**Goal:** What are the weather patterns and how does it change over a long period of time\\\n",
    "**Source:** https://www.kaggle.com/datasets/arunavakrchakraborty/australia-weather-data/data\\\n",
    "**Access:** Data is publicly available\\\n",
    "**Access Method:** Accessible through .csv\n",
    "\n",
    "\n"
   ]
  },
  {
   "attachments": {},
   "cell_type": "markdown",
   "metadata": {},
   "source": [
    "# Functional Requirements"
   ]
  },
  {
   "attachments": {},
   "cell_type": "markdown",
   "metadata": {},
   "source": [
    "**Data Loading:** \\\n",
    "Description: The program will be able to load a .csv file.\\\n",
    "Input: A .csv file\\\n",
    "Output: A processed and loaded .csv file\\\n",
    "**Data Cleaning:** \\\n",
    "Description: The program cleans data by removing any unnecesssary information\\\n",
    "Input: A processed .csv file\\\n",
    "Output: Clean and usable pandas dataframe\\\n",
    "**Data Analysis:** \\\n",
    "Description: The system needs to identify the trend in data\\\n",
    "Input: A cleaned .csv file\\\n",
    "Output: Shows the trend in a piece of data using the most important information\\\n",
    "**Data Visualisation:** \\\n",
    "Description: The data will be visualised using a matplotlib chart\\\n",
    "Input: A .csv file that displays a trend\\\n",
    "Output: A matplotlib chart showing information\\\n",
    "**Data Reporting:** \\\n",
    "Description: The matplotlib chart will be stored as a png file with the given data\\\n",
    "Input: A matplotlib chart along with the information\\\n",
    "Output: A matplotlib chart stored as a png\n",
    "\n"
   ]
  },
  {
   "attachments": {},
   "cell_type": "markdown",
   "metadata": {},
   "source": [
    "# Use Cases"
   ]
  },
  {
   "attachments": {},
   "cell_type": "markdown",
   "metadata": {},
   "source": [
    "**Data Loading**\\\n",
    "Actor: User\\\n",
    "Goal: To load a dataset into the system.\\\n",
    "Preconditions: User has a dataset file ready.\\\n",
    "Main Flow:\n",
    "1. User places the dataset for reading into the correct folder.\n",
    "2. System validates the file format.\n",
    "3. System loads the dataset and displays the information in a dataframe.\\\n",
    "Postconditions: Data is loaded and ready for analysis\n",
    "\n",
    "**Data Cleaning**\\\n",
    "Actor: User\\\n",
    "Goal: To clean data and remove any errors.\\\n",
    "Preconditions: The data file has been loaded.\\\n",
    "Main Flow:\n",
    "1. User places the dataset for scanning errors.\n",
    "2. System removes any incorrect information.\n",
    "3. System loads the cleaned data in a dataframe for further analysis.\\\n",
    "Postconditions: Data is cleaned and can now be investigated\n",
    "\n",
    "    **Data Analysis**\\\n",
    "    Actor: User\\\n",
    "    Goal: To look for a trend in clean data.\\\n",
    "    Preconditions: The data file has been processed and cleaned.\\\n",
    "    Main Flow:\n",
    "    1. User places the dataset for identifying trends.\n",
    "    2. System removes any unnecessary information.\n",
    "    3. System loads the analysed data in a dataframe for visualisation.\\\n",
    "    Postconditions: The data trend has been found and is ready to be visualised\n",
    "\n",
    "    **Data Visualisation**\\\n",
    "    Actor: User\\\n",
    "    Goal: To visualise data using a matplotlib chart.\\\n",
    "    Preconditions: The data has an identified trend.\\\n",
    "    Main Flow:\n",
    "    1. User places the dataset for finding trends.\n",
    "    2. System removes any unnecessary information.\n",
    "    3. System displays a matplotlib chart with trends.\\\n",
    "    Postconditions: Data is visualised as a matplotlib chart and can be saved\n",
    "\n",
    "    **Data Reporting**\\\n",
    "    Actor: User\\\n",
    "    Goal: To save the matplotlib chart as a png.\\\n",
    "    Preconditions: A matplotlib chart is ready to be saved.\\\n",
    "    Main Flow:\n",
    "    1. User places the data to save as a png and .csv file.\n",
    "    2. System displays a matplotlib chart as a png.\n",
    "    3. System displays the information as a .csv file.\\\n",
    "    Postconditions: A .csv file and a png file displays the data. "
   ]
  },
  {
   "attachments": {},
   "cell_type": "markdown",
   "metadata": {},
   "source": [
    "# Non-Functional Requirements"
   ]
  },
  {
   "attachments": {},
   "cell_type": "markdown",
   "metadata": {},
   "source": [
    "**Usability**: The requirements from the user interface needs to make sure it is able to handle errors and stays consistent, as well as being overall simple to use. The readme should make a clear guide for how to manage the software using key aspects such as a title, description and ther following content.\n",
    "\n",
    "**Reliability**: The requirements of the system needs to make sure that data is free of errors and any incorrect information. When it does encounter an error, the user needs to be aware of the issue and it should be removed."
   ]
  },
  {
   "attachments": {},
   "cell_type": "markdown",
   "metadata": {},
   "source": [
    "# Research and Planning"
   ]
  },
  {
   "attachments": {},
   "cell_type": "markdown",
   "metadata": {},
   "source": [
    "### **Research of Chosen Issue**\n",
    "\n",
    "**Purpose:** The purpose of this data is to investigate and analyse the weather patterns in Australia and how it changes over a couple of years. This way, we can predict many of the upcoming events that will come in individual cities. \n",
    "\n",
    "**Missing Data:** This data contains information based on the last 10 years, which provides a reliable overview of the average temperatures and it's increase as we may not have such information over a vast period of time. \n",
    "\n",
    "**Stakeholders:** Regular people may find this data useful as it provides a detailed insight of the daily weather across many common cities around australia, but weather patterns may have changed since this dataset was made and there may be some inaccuracies. However, this will benefit meteorologists as they can break down this data to find small trends over the whole country which could be the cause for weather events today. \n",
    "\n",
    "**Use:** This data will be useful for people that professionally study weather by allowing them to compare the weather patterns from now and the dataset, meaning they could predict the changes that have caused certain changes in weather and use that information to predict the weather in the future.\n"
   ]
  },
  {
   "attachments": {},
   "cell_type": "markdown",
   "metadata": {},
   "source": [
    "### **Privacy and Security**\n",
    "\n",
    "**Data Privacy of Source:** I am sourcing my data from Kaggle.com, which is a public data source that everyone can use. Since this dataset is about the weather around Australia, it isn't a necessity to protect any data from other people. \n",
    "\n",
    "**Application Data Privacy:** There aren't many responsibilities in maintaining this data as there isn't any identifiable data about any individual, other than minor details such as username and password as part of the login process. \n",
    "\n",
    "**Cyber Security:** To maintain cybersecurity, there are a variety of methods to make sure that the user is not impersonating anyone else. \n",
    "                    User authentication: Proving that someone is who they claim to be with passwords, PINs, Fingerprint etc."
   ]
  },
  {
   "attachments": {},
   "cell_type": "markdown",
   "metadata": {},
   "source": [
    "# Data Dictionary"
   ]
  },
  {
   "attachments": {},
   "cell_type": "markdown",
   "metadata": {},
   "source": [
    "|Field|Datatype|Format or Display|Description|Example|Validation|\n",
    "|:----:|:----:|:----:|:----:|:----:|:----:|\n",
    "|Date|datetime64|YYYY-MM-DD|The date the data was recorded|23/07/2010|Must be in the format of YYYY-MM-DD, cannot be in reverse order|\n",
    "|Location|object|XX...XX|The place the data was located|Penrith|Can be any amount of characters but must not include numbers|\n",
    "|Rainfall|float64|N.NN|The amount of rainfall in a location|1.2|Must be a decimal number to 2 decimal places|\n",
    "|Temp3pm|float64|NN.N|The temprature at 3pm in a location|30.1|Must be a decimal number to 1 decimal place|\n",
    "|Humidity3pm|integer|NN|The humidity at 3pm in a location|20|Must be a whole number up to 2 digits|\n",
    "|Windspeed3pm|integer|NN|The windspeed at 3pm in a location|18|Must be a whole number up to 2 digits|\n",
    "\n",
    "\n"
   ]
  },
  {
   "attachments": {},
   "cell_type": "markdown",
   "metadata": {},
   "source": [
    "# Producing and Implementing"
   ]
  },
  {
   "attachments": {},
   "cell_type": "markdown",
   "metadata": {},
   "source": [
    "### **Documenting your Testing**\n",
    "\n"
   ]
  },
  {
   "attachments": {},
   "cell_type": "markdown",
   "metadata": {},
   "source": [
    "# Testing and evaluating"
   ]
  },
  {
   "attachments": {},
   "cell_type": "markdown",
   "metadata": {},
   "source": [
    "### **Analyse and Conclude**"
   ]
  },
  {
   "attachments": {},
   "cell_type": "markdown",
   "metadata": {},
   "source": [
    "**Data Visualisation:** Provide the charts graphs generated from your data analysis program.\\\n",
    "**Calculations:** Fully explain the calculations and how accurate they were.\\\n",
    "**Accuracy:** Is the information accurate? Explain how you know it is or is not.\\\n",
    "**Conclusions:** Analyse the data. What conclusions can be drawn, what was discovered and what can this information be used for? Provide full explanation and analysis.\n"
   ]
  },
  {
   "attachments": {},
   "cell_type": "markdown",
   "metadata": {},
   "source": [
    "**Ansh:** Samraj's graphs are very sophisticated and his code is easy to understand and use. All the functions operate seamelssly and with no issues occouring. The way he singled out the oldest data and the newest data to show the patern and effect of climate change is ingenious.\n",
    "\n",
    "**Yyoung:** Functional Requirement: Samraj's program is able to load a .csv file as described in the functional requirements. He was also able to remove any unnecissary infomation and outputed a cleaned .csv file. He was able to create a code that was able to visualize and output a matplotlib graph. \n",
    "Non-Functional Reqirements: His program was able to handle errors and stay consistant thorughout testing. His system made sure that the data was free of errors and incorrect infomation. When it encounted a misinput, it did not crash and resolved the issue."
   ]
  }
 ],
 "metadata": {
  "language_info": {
   "name": "python"
  },
  "orig_nbformat": 4
 },
 "nbformat": 4,
 "nbformat_minor": 2
}
